{
 "cells": [
  {
   "cell_type": "code",
   "execution_count": null,
   "id": "371e96ff",
   "metadata": {},
   "outputs": [],
   "source": [
    "import os \n",
    "import json\n",
    "\n",
    "def dirlist(path, allfile=[], recursion=True):\n",
    "    \"\"\"\n",
    "    递归列出路径下文件\n",
    "    :param path:\n",
    "    :param allfile:\n",
    "    :param recursion:\n",
    "    :return:\n",
    "    \"\"\"\n",
    "    filelist = os.listdir(path)\n",
    "    for filename in filelist:\n",
    "        filepath = os.path.join(path, filename)\n",
    "        filepath = os.path.abspath(filepath)\n",
    "        if os.path.isdir(filepath):\n",
    "            if recursion:\n",
    "                dirlist(filepath, allfile)\n",
    "        else:\n",
    "            allfile.append(filepath)\n",
    "    return allfile\n",
    "\n",
    "\n",
    "\n",
    "files = dirlist('res/', [])\n",
    "files[0]\n"
   ]
  },
  {
   "cell_type": "code",
   "execution_count": null,
   "id": "50675e5b",
   "metadata": {},
   "outputs": [],
   "source": [
    "import json\n",
    "import numpy as np\n",
    "\n",
    "# 获取数据\n",
    "id,insert_time,search_time,all_time = [], [], [], []\n",
    "\n",
    "for file in files:\n",
    "    with open(file, 'r', encoding='utf-8') as op:\n",
    "        src = op.readlines()\n",
    "        for line in src:\n",
    "          obj = json.loads(line.strip())\n",
    "          id.append(obj['id'])\n",
    "          insert_time.append(obj['insert_time'])\n",
    "          search_time.append(obj['search_time'])\n",
    "          all_time.append(obj['insert_time']+obj['search_time'])\n",
    "\n",
    "len(id)"
   ]
  },
  {
   "cell_type": "code",
   "execution_count": null,
   "id": "ef2784b2",
   "metadata": {},
   "outputs": [],
   "source": [
    "# 查看分位数\n",
    "percentile_insert = np.percentile(insert_time,[50,90,99,99.9,99.99,100])\n",
    "percentile_search = np.percentile(search_time,[50,90,99,99.9,99.99,100])\n",
    "percentile_all = np.percentile(all_time,[50,90,99,99.9,99.99,100])\n",
    "percentile_insert,percentile_search,percentile_all"
   ]
  },
  {
   "cell_type": "code",
   "execution_count": null,
   "id": "0bb07a66",
   "metadata": {},
   "outputs": [],
   "source": [
    "import pyecharts.options as opts\n",
    "from pyecharts.charts import Line\n",
    "# 每500个数值 取一次平均\n",
    "each = 500\n",
    "batch = len(id) // each if len(id) % each == 0 else len(id) // each + 1\n",
    "print(batch)\n",
    "\n",
    "# 平均时间\n",
    "batch_id_mean, batch_insert_time_mean, batch_search_time_mean,batch_all_time_mean = [],[],[],[]\n",
    "\n",
    "for i in range(batch):\n",
    "  batch_id_mean.append(i)\n",
    "  batch_insert_time_mean.append(sum(insert_time[i*each:(i+1)*each])/each)\n",
    "  batch_search_time_mean.append(sum(search_time[i*each:(i+1)*each])/each)\n",
    "  batch_all_time_mean.append(sum(all_time[i*each: (i+1)*each])/each)\n",
    "\n",
    "# p99\n",
    "batch_id_p99, batch_insert_time_p99, batch_search_time_p99,batch_all_time_p99 = [],[],[],[]\n",
    "\n",
    "for i in range(batch):\n",
    "  batch_id_p99.append(i)\n",
    "#   print(i, np.percentile(insert_time[i*each:(i+1)*each],[99]))\n",
    "  batch_insert_time_p99.append(np.percentile(insert_time[i*each:(i+1)*each],[99])[0])\n",
    "  batch_search_time_p99.append(np.percentile(search_time[i*each:(i+1)*each],[99])[0])\n",
    "  batch_all_time_p99.append(np.percentile(all_time[i*each:(i+1)*each],[99])[0])\n",
    "\n",
    "# p999\n",
    "batch_id_p999, batch_insert_time_p999, batch_search_time_p999,batch_all_time_p999 = [],[],[],[]\n",
    "\n",
    "for i in range(batch):\n",
    "  batch_id_p999.append(i)\n",
    "  batch_insert_time_p999.append(np.percentile(insert_time[i*each:(i+1)*each],[99.9])[0])\n",
    "  batch_search_time_p999.append(np.percentile(search_time[i*each:(i+1)*each],[99.9])[0])\n",
    "  batch_all_time_p999.append(np.percentile(all_time[i*each:(i+1)*each],[99.9])[0])"
   ]
  },
  {
   "cell_type": "code",
   "execution_count": null,
   "id": "77134afc",
   "metadata": {},
   "outputs": [],
   "source": [
    "# 平均时间"
   ]
  },
  {
   "cell_type": "code",
   "execution_count": null,
   "id": "18ba2b41",
   "metadata": {},
   "outputs": [],
   "source": [
    "line=(\n",
    "    Line()\n",
    "    .add_xaxis(xaxis_data=batch_id_mean)\n",
    "    .add_yaxis(series_name=\"insert_time\",y_axis=batch_insert_time_mean,is_symbol_show=False)\n",
    "    .add_yaxis(series_name=\"search_time\",y_axis=batch_search_time_mean,is_symbol_show=False)\n",
    "    .add_yaxis(series_name=\"all_time\",y_axis=batch_all_time_mean,is_symbol_show=False)\n",
    "    .set_global_opts(title_opts=opts.TitleOpts(title=\"milvus_latency_mean\",pos_left=\"center\"),\n",
    "                    xaxis_opts=opts.AxisOpts(name='batch id',name_location=\"center\",name_gap=40,interval=10),\n",
    "                    yaxis_opts=opts.AxisOpts(name='latency(ms)',name_location=\"center\",name_gap=40),\n",
    "                    legend_opts=opts.LegendOpts(is_show=True,orient='vertical',pos_right=-5, pos_top=60)\n",
    ")\n",
    ")\n",
    "line.render('batch_line_chart_mean.html')\n",
    "line.render_notebook()"
   ]
  },
  {
   "cell_type": "code",
   "execution_count": null,
   "id": "3e4df1e3",
   "metadata": {},
   "outputs": [],
   "source": [
    "# p99"
   ]
  },
  {
   "cell_type": "code",
   "execution_count": null,
   "id": "18662491",
   "metadata": {},
   "outputs": [],
   "source": [
    "line=(\n",
    "    Line()\n",
    "    .add_xaxis(xaxis_data=batch_id_p99)\n",
    "    .add_yaxis(series_name=\"insert_time\",y_axis=batch_insert_time_p99,is_symbol_show=False)\n",
    "    .add_yaxis(series_name=\"search_time\",y_axis=batch_search_time_p99,is_symbol_show=False)\n",
    "    .add_yaxis(series_name=\"all_time\",y_axis=batch_all_time_p99,is_symbol_show=False)\n",
    "    .set_global_opts(title_opts=opts.TitleOpts(title=\"milvus_latency_p99\",pos_left=\"center\"),\n",
    "                    xaxis_opts=opts.AxisOpts(name='batch id',name_location=\"center\",name_gap=40),\n",
    "                    yaxis_opts=opts.AxisOpts(name='latency(ms)',name_location=\"center\",name_gap=40),\n",
    "                    legend_opts=opts.LegendOpts(is_show=True,orient='vertical',pos_right=-5, pos_top=60)\n",
    ")\n",
    ")\n",
    "line.render('batch_line_chart_p99.html')\n",
    "line.render_notebook()"
   ]
  },
  {
   "cell_type": "code",
   "execution_count": null,
   "id": "e82b44bf",
   "metadata": {},
   "outputs": [],
   "source": [
    "# p999"
   ]
  },
  {
   "cell_type": "code",
   "execution_count": null,
   "id": "126359ca",
   "metadata": {},
   "outputs": [],
   "source": [
    "\n",
    "line=(\n",
    "    Line()\n",
    "    .add_xaxis(xaxis_data=batch_id_p999)\n",
    "    .add_yaxis(series_name=\"insert_time\",y_axis=batch_insert_time_p999,is_symbol_show=False)\n",
    "    .add_yaxis(series_name=\"search_time\",y_axis=batch_search_time_p999,is_symbol_show=False)\n",
    "    .add_yaxis(series_name=\"all_time\",y_axis=batch_all_time_p999,is_symbol_show=False)\n",
    "    .set_global_opts(title_opts=opts.TitleOpts(title=\"milvus_latency_p999\",pos_left=\"center\"),\n",
    "                    xaxis_opts=opts.AxisOpts(name='batch id',name_location=\"center\",name_gap=40,min_interval=50),\n",
    "                    yaxis_opts=opts.AxisOpts(name='latency(ms)',name_location=\"center\",name_gap=40),\n",
    "                    legend_opts=opts.LegendOpts(is_show=True,orient='vertical',pos_right=-5, pos_top=60)\n",
    ")\n",
    ")\n",
    "line.render('batch_line_p999.html')\n",
    "line.render_notebook()"
   ]
  },
  {
   "cell_type": "code",
   "execution_count": null,
   "id": "21815170",
   "metadata": {},
   "outputs": [],
   "source": []
  }
 ],
 "metadata": {
  "kernelspec": {
   "display_name": "Python 3 (ipykernel)",
   "language": "python",
   "name": "python3"
  },
  "language_info": {
   "codemirror_mode": {
    "name": "ipython",
    "version": 3
   },
   "file_extension": ".py",
   "mimetype": "text/x-python",
   "name": "python",
   "nbconvert_exporter": "python",
   "pygments_lexer": "ipython3",
   "version": "3.9.0"
  }
 },
 "nbformat": 4,
 "nbformat_minor": 5
}
